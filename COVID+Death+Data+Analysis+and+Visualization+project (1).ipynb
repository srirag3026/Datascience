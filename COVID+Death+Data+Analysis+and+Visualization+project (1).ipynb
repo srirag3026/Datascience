{
 "cells": [
  {
   "cell_type": "markdown",
   "metadata": {},
   "source": [
    "## Explore the COVID  Deaths Data "
   ]
  },
  {
   "cell_type": "markdown",
   "metadata": {},
   "source": [
    "### [Quick intro to the project, feel free to keep it short]"
   ]
  },
  {
   "cell_type": "code",
   "execution_count": 1,
   "metadata": {
    "collapsed": true
   },
   "outputs": [],
   "source": [
    "# Not-exhaustive project checklist\n",
    "# Note: this is not a writing assignment, but you should still incorporate comments or headers throughout\n",
    "# -- This will help others who review your work, but will also help you keep track of what you're doing\n",
    "# -- Just think about what would help you understand a peer's project when you have to grade theirs later\n",
    "\n",
    "\n",
    "# 1) Dataset included\n",
    "# 1a) Dataset explained/documented when used\n",
    "# 2) Analysis performed\n",
    "# 2a) Analysis steps documented, explained briefly\n",
    "# 3) Visualizations/outputs\n",
    "# 4) Conclusion\n",
    "# ---Did you answer your questions?\n",
    "# ---Did you find anything else?\n",
    "# ---What problems did you run into?\n",
    "# ---Any suggestions for future research?\n",
    "\n",
    "# Critical checks before submission\n",
    "# - Does the noteboook run without error? (Kernel>restart & run all => no errors at all? No long periods of processing?)\n",
    "# - Do you have your dataset included here? You shouldn't be connecting to any external data\n",
    "# - - Even if external datasets work here, they WILL NOT work for peer-grading, and you may get a 0."
   ]
  },
  {
   "cell_type": "markdown",
   "metadata": {},
   "source": [
    "# Introduction:\n",
    "\n",
    "This notebook uses the death data information regarding COVID-19 death counts categorized by age and sex in the United States. We will explore the Covid deaths here through various analysis techniques to understand how age correlates with mortality rates during the pandemic and i have used various visualization to explore the data , slicing the data against age groups and others.\n",
    "\n",
    "Key Insights: The data highlights how significantly COVID-19 affected older adults, with individuals aged 65 and over experiencing the most severe outcomes, including higher hospitalization and mortality rates.\"\n",
    "\n"
   ]
  },
  {
   "cell_type": "markdown",
   "metadata": {},
   "source": [
    "# Dataset Description: \n",
    "\n",
    "Dataset obtained from Kaggle and has Covid provisional death data by Sex and Age in years\n",
    "https://www.kaggle.com/code/lindleylawrence/ages-of-death-covid-19\n"
   ]
  },
  {
   "cell_type": "markdown",
   "metadata": {},
   "source": [
    "# Import packages and explore the data"
   ]
  },
  {
   "cell_type": "code",
   "execution_count": 2,
   "metadata": {},
   "outputs": [
    {
     "name": "stdout",
     "output_type": "stream",
     "text": [
      "3.8.7 (default, Jan 25 2021, 11:14:52) \n",
      "[GCC 5.5.0 20171010]\n",
      "3.8.7 (default, Jan 25 2021, 11:14:52) \n",
      "[GCC 5.5.0 20171010]\n",
      "=== Covid Death data set: 137700 rows x 16 columns. ===\n"
     ]
    },
    {
     "data": {
      "text/html": [
       "<div>\n",
       "<style scoped>\n",
       "    .dataframe tbody tr th:only-of-type {\n",
       "        vertical-align: middle;\n",
       "    }\n",
       "\n",
       "    .dataframe tbody tr th {\n",
       "        vertical-align: top;\n",
       "    }\n",
       "\n",
       "    .dataframe thead th {\n",
       "        text-align: right;\n",
       "    }\n",
       "</style>\n",
       "<table border=\"1\" class=\"dataframe\">\n",
       "  <thead>\n",
       "    <tr style=\"text-align: right;\">\n",
       "      <th></th>\n",
       "      <th>Data As Of</th>\n",
       "      <th>Start Date</th>\n",
       "      <th>End Date</th>\n",
       "      <th>Group</th>\n",
       "      <th>Year</th>\n",
       "      <th>Month</th>\n",
       "      <th>State</th>\n",
       "      <th>Sex</th>\n",
       "      <th>Age Group</th>\n",
       "      <th>COVID-19 Deaths</th>\n",
       "      <th>Total Deaths</th>\n",
       "      <th>Pneumonia Deaths</th>\n",
       "      <th>Pneumonia and COVID-19 Deaths</th>\n",
       "      <th>Influenza Deaths</th>\n",
       "      <th>Pneumonia, Influenza, or COVID-19 Deaths</th>\n",
       "      <th>Footnote</th>\n",
       "    </tr>\n",
       "  </thead>\n",
       "  <tbody>\n",
       "    <tr>\n",
       "      <th>0</th>\n",
       "      <td>09/27/2023</td>\n",
       "      <td>01/01/2020</td>\n",
       "      <td>09/23/2023</td>\n",
       "      <td>By Total</td>\n",
       "      <td>NaN</td>\n",
       "      <td>NaN</td>\n",
       "      <td>United States</td>\n",
       "      <td>All Sexes</td>\n",
       "      <td>All Ages</td>\n",
       "      <td>1146774.0</td>\n",
       "      <td>12303399.0</td>\n",
       "      <td>1162844.0</td>\n",
       "      <td>569264.0</td>\n",
       "      <td>22229.0</td>\n",
       "      <td>1760095.0</td>\n",
       "      <td>NaN</td>\n",
       "    </tr>\n",
       "    <tr>\n",
       "      <th>1</th>\n",
       "      <td>09/27/2023</td>\n",
       "      <td>01/01/2020</td>\n",
       "      <td>09/23/2023</td>\n",
       "      <td>By Total</td>\n",
       "      <td>NaN</td>\n",
       "      <td>NaN</td>\n",
       "      <td>United States</td>\n",
       "      <td>All Sexes</td>\n",
       "      <td>Under 1 year</td>\n",
       "      <td>519.0</td>\n",
       "      <td>73213.0</td>\n",
       "      <td>1056.0</td>\n",
       "      <td>95.0</td>\n",
       "      <td>64.0</td>\n",
       "      <td>1541.0</td>\n",
       "      <td>NaN</td>\n",
       "    </tr>\n",
       "    <tr>\n",
       "      <th>2</th>\n",
       "      <td>09/27/2023</td>\n",
       "      <td>01/01/2020</td>\n",
       "      <td>09/23/2023</td>\n",
       "      <td>By Total</td>\n",
       "      <td>NaN</td>\n",
       "      <td>NaN</td>\n",
       "      <td>United States</td>\n",
       "      <td>All Sexes</td>\n",
       "      <td>0-17 years</td>\n",
       "      <td>1696.0</td>\n",
       "      <td>130970.0</td>\n",
       "      <td>2961.0</td>\n",
       "      <td>424.0</td>\n",
       "      <td>509.0</td>\n",
       "      <td>4716.0</td>\n",
       "      <td>NaN</td>\n",
       "    </tr>\n",
       "    <tr>\n",
       "      <th>3</th>\n",
       "      <td>09/27/2023</td>\n",
       "      <td>01/01/2020</td>\n",
       "      <td>09/23/2023</td>\n",
       "      <td>By Total</td>\n",
       "      <td>NaN</td>\n",
       "      <td>NaN</td>\n",
       "      <td>United States</td>\n",
       "      <td>All Sexes</td>\n",
       "      <td>1-4 years</td>\n",
       "      <td>285.0</td>\n",
       "      <td>14299.0</td>\n",
       "      <td>692.0</td>\n",
       "      <td>66.0</td>\n",
       "      <td>177.0</td>\n",
       "      <td>1079.0</td>\n",
       "      <td>NaN</td>\n",
       "    </tr>\n",
       "    <tr>\n",
       "      <th>4</th>\n",
       "      <td>09/27/2023</td>\n",
       "      <td>01/01/2020</td>\n",
       "      <td>09/23/2023</td>\n",
       "      <td>By Total</td>\n",
       "      <td>NaN</td>\n",
       "      <td>NaN</td>\n",
       "      <td>United States</td>\n",
       "      <td>All Sexes</td>\n",
       "      <td>5-14 years</td>\n",
       "      <td>509.0</td>\n",
       "      <td>22008.0</td>\n",
       "      <td>818.0</td>\n",
       "      <td>143.0</td>\n",
       "      <td>219.0</td>\n",
       "      <td>1390.0</td>\n",
       "      <td>NaN</td>\n",
       "    </tr>\n",
       "  </tbody>\n",
       "</table>\n",
       "</div>"
      ],
      "text/plain": [
       "   Data As Of  Start Date    End Date     Group  Year  Month          State  \\\n",
       "0  09/27/2023  01/01/2020  09/23/2023  By Total   NaN    NaN  United States   \n",
       "1  09/27/2023  01/01/2020  09/23/2023  By Total   NaN    NaN  United States   \n",
       "2  09/27/2023  01/01/2020  09/23/2023  By Total   NaN    NaN  United States   \n",
       "3  09/27/2023  01/01/2020  09/23/2023  By Total   NaN    NaN  United States   \n",
       "4  09/27/2023  01/01/2020  09/23/2023  By Total   NaN    NaN  United States   \n",
       "\n",
       "         Sex     Age Group  COVID-19 Deaths  Total Deaths  Pneumonia Deaths  \\\n",
       "0  All Sexes      All Ages        1146774.0    12303399.0         1162844.0   \n",
       "1  All Sexes  Under 1 year            519.0       73213.0            1056.0   \n",
       "2  All Sexes    0-17 years           1696.0      130970.0            2961.0   \n",
       "3  All Sexes     1-4 years            285.0       14299.0             692.0   \n",
       "4  All Sexes    5-14 years            509.0       22008.0             818.0   \n",
       "\n",
       "   Pneumonia and COVID-19 Deaths  Influenza Deaths  \\\n",
       "0                       569264.0           22229.0   \n",
       "1                           95.0              64.0   \n",
       "2                          424.0             509.0   \n",
       "3                           66.0             177.0   \n",
       "4                          143.0             219.0   \n",
       "\n",
       "   Pneumonia, Influenza, or COVID-19 Deaths Footnote  \n",
       "0                                 1760095.0      NaN  \n",
       "1                                    1541.0      NaN  \n",
       "2                                    4716.0      NaN  \n",
       "3                                    1079.0      NaN  \n",
       "4                                    1390.0      NaN  "
      ]
     },
     "metadata": {},
     "output_type": "display_data"
    },
    {
     "name": "stdout",
     "output_type": "stream",
     "text": [
      "<class 'pandas.core.frame.DataFrame'>\n",
      "RangeIndex: 137700 entries, 0 to 137699\n",
      "Data columns (total 16 columns):\n",
      " #   Column                                    Non-Null Count   Dtype  \n",
      "---  ------                                    --------------   -----  \n",
      " 0   Data As Of                                137700 non-null  object \n",
      " 1   Start Date                                137700 non-null  object \n",
      " 2   End Date                                  137700 non-null  object \n",
      " 3   Group                                     137700 non-null  object \n",
      " 4   Year                                      134946 non-null  float64\n",
      " 5   Month                                     123930 non-null  float64\n",
      " 6   State                                     137700 non-null  object \n",
      " 7   Sex                                       137700 non-null  object \n",
      " 8   Age Group                                 137700 non-null  object \n",
      " 9   COVID-19 Deaths                           98270 non-null   float64\n",
      " 10  Total Deaths                              118191 non-null  float64\n",
      " 11  Pneumonia Deaths                          92836 non-null   float64\n",
      " 12  Pneumonia and COVID-19 Deaths             100816 non-null  float64\n",
      " 13  Influenza Deaths                          111012 non-null  float64\n",
      " 14  Pneumonia, Influenza, or COVID-19 Deaths  93467 non-null   float64\n",
      " 15  Footnote                                  97896 non-null   object \n",
      "dtypes: float64(8), object(8)\n",
      "memory usage: 16.8+ MB\n"
     ]
    },
    {
     "data": {
      "text/html": [
       "<div>\n",
       "<style scoped>\n",
       "    .dataframe tbody tr th:only-of-type {\n",
       "        vertical-align: middle;\n",
       "    }\n",
       "\n",
       "    .dataframe tbody tr th {\n",
       "        vertical-align: top;\n",
       "    }\n",
       "\n",
       "    .dataframe thead th {\n",
       "        text-align: right;\n",
       "    }\n",
       "</style>\n",
       "<table border=\"1\" class=\"dataframe\">\n",
       "  <thead>\n",
       "    <tr style=\"text-align: right;\">\n",
       "      <th></th>\n",
       "      <th>Year</th>\n",
       "      <th>Month</th>\n",
       "      <th>COVID-19 Deaths</th>\n",
       "      <th>Total Deaths</th>\n",
       "      <th>Pneumonia Deaths</th>\n",
       "      <th>Pneumonia and COVID-19 Deaths</th>\n",
       "      <th>Influenza Deaths</th>\n",
       "      <th>Pneumonia, Influenza, or COVID-19 Deaths</th>\n",
       "    </tr>\n",
       "  </thead>\n",
       "  <tbody>\n",
       "    <tr>\n",
       "      <th>count</th>\n",
       "      <td>134946.000000</td>\n",
       "      <td>123930.000000</td>\n",
       "      <td>9.827000e+04</td>\n",
       "      <td>1.181910e+05</td>\n",
       "      <td>9.283600e+04</td>\n",
       "      <td>100816.000000</td>\n",
       "      <td>111012.000000</td>\n",
       "      <td>9.346700e+04</td>\n",
       "    </tr>\n",
       "    <tr>\n",
       "      <th>mean</th>\n",
       "      <td>2021.408163</td>\n",
       "      <td>6.200000</td>\n",
       "      <td>3.135865e+02</td>\n",
       "      <td>2.841953e+03</td>\n",
       "      <td>3.365971e+02</td>\n",
       "      <td>152.513411</td>\n",
       "      <td>5.002468</td>\n",
       "      <td>5.054918e+02</td>\n",
       "    </tr>\n",
       "    <tr>\n",
       "      <th>std</th>\n",
       "      <td>1.086439</td>\n",
       "      <td>3.350635</td>\n",
       "      <td>5.992341e+03</td>\n",
       "      <td>5.620138e+04</td>\n",
       "      <td>6.126574e+03</td>\n",
       "      <td>2980.886938</td>\n",
       "      <td>110.606691</td>\n",
       "      <td>9.256952e+03</td>\n",
       "    </tr>\n",
       "    <tr>\n",
       "      <th>min</th>\n",
       "      <td>2020.000000</td>\n",
       "      <td>1.000000</td>\n",
       "      <td>0.000000e+00</td>\n",
       "      <td>0.000000e+00</td>\n",
       "      <td>0.000000e+00</td>\n",
       "      <td>0.000000</td>\n",
       "      <td>0.000000</td>\n",
       "      <td>0.000000e+00</td>\n",
       "    </tr>\n",
       "    <tr>\n",
       "      <th>25%</th>\n",
       "      <td>2020.000000</td>\n",
       "      <td>3.000000</td>\n",
       "      <td>0.000000e+00</td>\n",
       "      <td>4.300000e+01</td>\n",
       "      <td>0.000000e+00</td>\n",
       "      <td>0.000000</td>\n",
       "      <td>0.000000</td>\n",
       "      <td>0.000000e+00</td>\n",
       "    </tr>\n",
       "    <tr>\n",
       "      <th>50%</th>\n",
       "      <td>2021.000000</td>\n",
       "      <td>6.000000</td>\n",
       "      <td>0.000000e+00</td>\n",
       "      <td>1.530000e+02</td>\n",
       "      <td>1.800000e+01</td>\n",
       "      <td>0.000000</td>\n",
       "      <td>0.000000</td>\n",
       "      <td>2.500000e+01</td>\n",
       "    </tr>\n",
       "    <tr>\n",
       "      <th>75%</th>\n",
       "      <td>2022.000000</td>\n",
       "      <td>9.000000</td>\n",
       "      <td>5.000000e+01</td>\n",
       "      <td>6.570000e+02</td>\n",
       "      <td>7.400000e+01</td>\n",
       "      <td>21.000000</td>\n",
       "      <td>0.000000</td>\n",
       "      <td>1.070000e+02</td>\n",
       "    </tr>\n",
       "    <tr>\n",
       "      <th>max</th>\n",
       "      <td>2023.000000</td>\n",
       "      <td>12.000000</td>\n",
       "      <td>1.146774e+06</td>\n",
       "      <td>1.230340e+07</td>\n",
       "      <td>1.162844e+06</td>\n",
       "      <td>569264.000000</td>\n",
       "      <td>22229.000000</td>\n",
       "      <td>1.760095e+06</td>\n",
       "    </tr>\n",
       "  </tbody>\n",
       "</table>\n",
       "</div>"
      ],
      "text/plain": [
       "                Year          Month  COVID-19 Deaths  Total Deaths  \\\n",
       "count  134946.000000  123930.000000     9.827000e+04  1.181910e+05   \n",
       "mean     2021.408163       6.200000     3.135865e+02  2.841953e+03   \n",
       "std         1.086439       3.350635     5.992341e+03  5.620138e+04   \n",
       "min      2020.000000       1.000000     0.000000e+00  0.000000e+00   \n",
       "25%      2020.000000       3.000000     0.000000e+00  4.300000e+01   \n",
       "50%      2021.000000       6.000000     0.000000e+00  1.530000e+02   \n",
       "75%      2022.000000       9.000000     5.000000e+01  6.570000e+02   \n",
       "max      2023.000000      12.000000     1.146774e+06  1.230340e+07   \n",
       "\n",
       "       Pneumonia Deaths  Pneumonia and COVID-19 Deaths  Influenza Deaths  \\\n",
       "count      9.283600e+04                  100816.000000     111012.000000   \n",
       "mean       3.365971e+02                     152.513411          5.002468   \n",
       "std        6.126574e+03                    2980.886938        110.606691   \n",
       "min        0.000000e+00                       0.000000          0.000000   \n",
       "25%        0.000000e+00                       0.000000          0.000000   \n",
       "50%        1.800000e+01                       0.000000          0.000000   \n",
       "75%        7.400000e+01                      21.000000          0.000000   \n",
       "max        1.162844e+06                  569264.000000      22229.000000   \n",
       "\n",
       "       Pneumonia, Influenza, or COVID-19 Deaths  \n",
       "count                              9.346700e+04  \n",
       "mean                               5.054918e+02  \n",
       "std                                9.256952e+03  \n",
       "min                                0.000000e+00  \n",
       "25%                                0.000000e+00  \n",
       "50%                                2.500000e+01  \n",
       "75%                                1.070000e+02  \n",
       "max                                1.760095e+06  "
      ]
     },
     "execution_count": 2,
     "metadata": {},
     "output_type": "execute_result"
    }
   ],
   "source": [
    "import sys\n",
    "print(sys.version) \n",
    "\n",
    "# import packages\n",
    "import numpy as np\n",
    "import pandas as pd\n",
    "import matplotlib.pyplot as plt\n",
    "\n",
    "%matplotlib inline\n",
    "print(sys.version) \n",
    "\n",
    "# Read the data and create covid deaths dataframe\n",
    "Deaths_df = pd.read_csv('Provisional_COVID-19_Deaths_by_Sex_and_Age.csv')\n",
    "\n",
    "#Display rows and columns of the file\n",
    "print(\"=== Covid Death data set: {} rows x {} columns. ===\".format(Deaths_df.shape[0], Deaths_df.shape[1]))\n",
    "display (Deaths_df.head())\n",
    "\n",
    "#Print the column datatype and information related to columns\n",
    "Deaths_df.info()\n",
    "\n",
    "#Describe the Data\n",
    "Deaths_df.describe()\n",
    "\n"
   ]
  },
  {
   "cell_type": "markdown",
   "metadata": {},
   "source": [
    "# Check Missing Values"
   ]
  },
  {
   "cell_type": "code",
   "execution_count": 3,
   "metadata": {},
   "outputs": [
    {
     "data": {
      "text/plain": [
       "Data As Of                                      0\n",
       "Start Date                                      0\n",
       "End Date                                        0\n",
       "Group                                           0\n",
       "Year                                         2754\n",
       "Month                                       13770\n",
       "State                                           0\n",
       "Sex                                             0\n",
       "Age Group                                       0\n",
       "COVID-19 Deaths                             39430\n",
       "Total Deaths                                19509\n",
       "Pneumonia Deaths                            44864\n",
       "Pneumonia and COVID-19 Deaths               36884\n",
       "Influenza Deaths                            26688\n",
       "Pneumonia, Influenza, or COVID-19 Deaths    44233\n",
       "Footnote                                    39804\n",
       "dtype: int64"
      ]
     },
     "execution_count": 3,
     "metadata": {},
     "output_type": "execute_result"
    }
   ],
   "source": [
    "# Let's check for missing values:\n",
    "Deaths_df.isnull().sum() #https://www.kaggle.com/code/lindleylawrence/ages-of-death-covid-19"
   ]
  },
  {
   "cell_type": "code",
   "execution_count": 4,
   "metadata": {},
   "outputs": [
    {
     "name": "stdout",
     "output_type": "stream",
     "text": [
      "['By Total' 'By Year' 'By Month']\n"
     ]
    },
    {
     "data": {
      "text/html": [
       "<div>\n",
       "<style scoped>\n",
       "    .dataframe tbody tr th:only-of-type {\n",
       "        vertical-align: middle;\n",
       "    }\n",
       "\n",
       "    .dataframe tbody tr th {\n",
       "        vertical-align: top;\n",
       "    }\n",
       "\n",
       "    .dataframe thead th {\n",
       "        text-align: right;\n",
       "    }\n",
       "</style>\n",
       "<table border=\"1\" class=\"dataframe\">\n",
       "  <thead>\n",
       "    <tr style=\"text-align: right;\">\n",
       "      <th></th>\n",
       "      <th>Data As Of</th>\n",
       "      <th>Start Date</th>\n",
       "      <th>End Date</th>\n",
       "      <th>Group</th>\n",
       "      <th>Year</th>\n",
       "      <th>Month</th>\n",
       "      <th>State</th>\n",
       "      <th>Sex</th>\n",
       "      <th>Age Group</th>\n",
       "      <th>COVID-19 Deaths</th>\n",
       "      <th>Total Deaths</th>\n",
       "      <th>Pneumonia Deaths</th>\n",
       "      <th>Pneumonia and COVID-19 Deaths</th>\n",
       "      <th>Influenza Deaths</th>\n",
       "      <th>Pneumonia, Influenza, or COVID-19 Deaths</th>\n",
       "      <th>Footnote</th>\n",
       "    </tr>\n",
       "  </thead>\n",
       "  <tbody>\n",
       "    <tr>\n",
       "      <th>13770</th>\n",
       "      <td>09/27/2023</td>\n",
       "      <td>01/01/2020</td>\n",
       "      <td>01/31/2020</td>\n",
       "      <td>By Month</td>\n",
       "      <td>2020.0</td>\n",
       "      <td>1.0</td>\n",
       "      <td>United States</td>\n",
       "      <td>All Sexes</td>\n",
       "      <td>All Ages</td>\n",
       "      <td>6.0</td>\n",
       "      <td>264677.0</td>\n",
       "      <td>17909.0</td>\n",
       "      <td>3.0</td>\n",
       "      <td>2125.0</td>\n",
       "      <td>20037.0</td>\n",
       "      <td>NaN</td>\n",
       "    </tr>\n",
       "    <tr>\n",
       "      <th>13771</th>\n",
       "      <td>09/27/2023</td>\n",
       "      <td>01/01/2020</td>\n",
       "      <td>01/31/2020</td>\n",
       "      <td>By Month</td>\n",
       "      <td>2020.0</td>\n",
       "      <td>1.0</td>\n",
       "      <td>United States</td>\n",
       "      <td>All Sexes</td>\n",
       "      <td>Under 1 year</td>\n",
       "      <td>0.0</td>\n",
       "      <td>1784.0</td>\n",
       "      <td>41.0</td>\n",
       "      <td>0.0</td>\n",
       "      <td>8.0</td>\n",
       "      <td>49.0</td>\n",
       "      <td>NaN</td>\n",
       "    </tr>\n",
       "    <tr>\n",
       "      <th>13772</th>\n",
       "      <td>09/27/2023</td>\n",
       "      <td>01/01/2020</td>\n",
       "      <td>01/31/2020</td>\n",
       "      <td>By Month</td>\n",
       "      <td>2020.0</td>\n",
       "      <td>1.0</td>\n",
       "      <td>United States</td>\n",
       "      <td>All Sexes</td>\n",
       "      <td>0-17 years</td>\n",
       "      <td>0.0</td>\n",
       "      <td>2966.0</td>\n",
       "      <td>90.0</td>\n",
       "      <td>0.0</td>\n",
       "      <td>63.0</td>\n",
       "      <td>153.0</td>\n",
       "      <td>NaN</td>\n",
       "    </tr>\n",
       "    <tr>\n",
       "      <th>13773</th>\n",
       "      <td>09/27/2023</td>\n",
       "      <td>01/01/2020</td>\n",
       "      <td>01/31/2020</td>\n",
       "      <td>By Month</td>\n",
       "      <td>2020.0</td>\n",
       "      <td>1.0</td>\n",
       "      <td>United States</td>\n",
       "      <td>All Sexes</td>\n",
       "      <td>1-4 years</td>\n",
       "      <td>0.0</td>\n",
       "      <td>315.0</td>\n",
       "      <td>22.0</td>\n",
       "      <td>0.0</td>\n",
       "      <td>18.0</td>\n",
       "      <td>40.0</td>\n",
       "      <td>NaN</td>\n",
       "    </tr>\n",
       "    <tr>\n",
       "      <th>13774</th>\n",
       "      <td>09/27/2023</td>\n",
       "      <td>01/01/2020</td>\n",
       "      <td>01/31/2020</td>\n",
       "      <td>By Month</td>\n",
       "      <td>2020.0</td>\n",
       "      <td>1.0</td>\n",
       "      <td>United States</td>\n",
       "      <td>All Sexes</td>\n",
       "      <td>5-14 years</td>\n",
       "      <td>0.0</td>\n",
       "      <td>471.0</td>\n",
       "      <td>21.0</td>\n",
       "      <td>0.0</td>\n",
       "      <td>29.0</td>\n",
       "      <td>50.0</td>\n",
       "      <td>NaN</td>\n",
       "    </tr>\n",
       "  </tbody>\n",
       "</table>\n",
       "</div>"
      ],
      "text/plain": [
       "       Data As Of  Start Date    End Date     Group    Year  Month  \\\n",
       "13770  09/27/2023  01/01/2020  01/31/2020  By Month  2020.0    1.0   \n",
       "13771  09/27/2023  01/01/2020  01/31/2020  By Month  2020.0    1.0   \n",
       "13772  09/27/2023  01/01/2020  01/31/2020  By Month  2020.0    1.0   \n",
       "13773  09/27/2023  01/01/2020  01/31/2020  By Month  2020.0    1.0   \n",
       "13774  09/27/2023  01/01/2020  01/31/2020  By Month  2020.0    1.0   \n",
       "\n",
       "               State        Sex     Age Group  COVID-19 Deaths  Total Deaths  \\\n",
       "13770  United States  All Sexes      All Ages              6.0      264677.0   \n",
       "13771  United States  All Sexes  Under 1 year              0.0        1784.0   \n",
       "13772  United States  All Sexes    0-17 years              0.0        2966.0   \n",
       "13773  United States  All Sexes     1-4 years              0.0         315.0   \n",
       "13774  United States  All Sexes    5-14 years              0.0         471.0   \n",
       "\n",
       "       Pneumonia Deaths  Pneumonia and COVID-19 Deaths  Influenza Deaths  \\\n",
       "13770           17909.0                            3.0            2125.0   \n",
       "13771              41.0                            0.0               8.0   \n",
       "13772              90.0                            0.0              63.0   \n",
       "13773              22.0                            0.0              18.0   \n",
       "13774              21.0                            0.0              29.0   \n",
       "\n",
       "       Pneumonia, Influenza, or COVID-19 Deaths Footnote  \n",
       "13770                                   20037.0      NaN  \n",
       "13771                                      49.0      NaN  \n",
       "13772                                     153.0      NaN  \n",
       "13773                                      40.0      NaN  \n",
       "13774                                      50.0      NaN  "
      ]
     },
     "execution_count": 4,
     "metadata": {},
     "output_type": "execute_result"
    }
   ],
   "source": [
    "unique_values = Deaths_df[Deaths_df['State'] == 'United States']['Group'].unique()\n",
    "print(unique_values)\n",
    "\n",
    "# Filter the DataFrame\n",
    "Monthly_cases = Deaths_df[(Deaths_df['State'] == 'United States') & (Deaths_df['Group'] == 'By Month')]\n",
    "\n",
    "# Sum the 'Cases' column\n",
    "#Monthly_cases = filtered_df['COVid-19 Deaths'].sum()\n",
    "Monthly_cases.head()\n",
    "# daily_cases.index = pd.to_datetime(daily_cases.index)\n",
    "# daily_cases.head()"
   ]
  },
  {
   "cell_type": "code",
   "execution_count": 11,
   "metadata": {},
   "outputs": [
    {
     "ename": "KeyError",
     "evalue": "\"None of ['Start Date'] are in the columns\"",
     "output_type": "error",
     "traceback": [
      "\u001b[0;31m---------------------------------------------------------------------------\u001b[0m",
      "\u001b[0;31mKeyError\u001b[0m                                  Traceback (most recent call last)",
      "\u001b[0;32m<ipython-input-11-4e514236c17c>\u001b[0m in \u001b[0;36m<module>\u001b[0;34m\u001b[0m\n\u001b[1;32m      1\u001b[0m \u001b[0;31m# Step 1: Set the datetime index\u001b[0m\u001b[0;34m\u001b[0m\u001b[0;34m\u001b[0m\u001b[0;34m\u001b[0m\u001b[0m\n\u001b[0;32m----> 2\u001b[0;31m \u001b[0mMonthly_cases\u001b[0m\u001b[0;34m.\u001b[0m\u001b[0mset_index\u001b[0m\u001b[0;34m(\u001b[0m\u001b[0;34m'Start Date'\u001b[0m\u001b[0;34m,\u001b[0m \u001b[0minplace\u001b[0m\u001b[0;34m=\u001b[0m\u001b[0;32mTrue\u001b[0m\u001b[0;34m)\u001b[0m\u001b[0;34m\u001b[0m\u001b[0;34m\u001b[0m\u001b[0m\n\u001b[0m\u001b[1;32m      3\u001b[0m \u001b[0;34m\u001b[0m\u001b[0m\n\u001b[1;32m      4\u001b[0m \u001b[0;31m# Step 2: Calculate number of days in each month\u001b[0m\u001b[0;34m\u001b[0m\u001b[0;34m\u001b[0m\u001b[0;34m\u001b[0m\u001b[0m\n\u001b[1;32m      5\u001b[0m \u001b[0mMonthly_cases\u001b[0m\u001b[0;34m[\u001b[0m\u001b[0;34m'days_in_month'\u001b[0m\u001b[0;34m]\u001b[0m \u001b[0;34m=\u001b[0m \u001b[0mMonthly_cases\u001b[0m\u001b[0;34m.\u001b[0m\u001b[0mindex\u001b[0m\u001b[0;34m.\u001b[0m\u001b[0mdays_in_month\u001b[0m\u001b[0;34m\u001b[0m\u001b[0;34m\u001b[0m\u001b[0m\n",
      "\u001b[0;32m/usr/local/lib/python3.8/site-packages/pandas/util/_decorators.py\u001b[0m in \u001b[0;36mwrapper\u001b[0;34m(*args, **kwargs)\u001b[0m\n\u001b[1;32m    309\u001b[0m                     \u001b[0mstacklevel\u001b[0m\u001b[0;34m=\u001b[0m\u001b[0mstacklevel\u001b[0m\u001b[0;34m,\u001b[0m\u001b[0;34m\u001b[0m\u001b[0;34m\u001b[0m\u001b[0m\n\u001b[1;32m    310\u001b[0m                 )\n\u001b[0;32m--> 311\u001b[0;31m             \u001b[0;32mreturn\u001b[0m \u001b[0mfunc\u001b[0m\u001b[0;34m(\u001b[0m\u001b[0;34m*\u001b[0m\u001b[0margs\u001b[0m\u001b[0;34m,\u001b[0m \u001b[0;34m**\u001b[0m\u001b[0mkwargs\u001b[0m\u001b[0;34m)\u001b[0m\u001b[0;34m\u001b[0m\u001b[0;34m\u001b[0m\u001b[0m\n\u001b[0m\u001b[1;32m    312\u001b[0m \u001b[0;34m\u001b[0m\u001b[0m\n\u001b[1;32m    313\u001b[0m         \u001b[0;32mreturn\u001b[0m \u001b[0mwrapper\u001b[0m\u001b[0;34m\u001b[0m\u001b[0;34m\u001b[0m\u001b[0m\n",
      "\u001b[0;32m/usr/local/lib/python3.8/site-packages/pandas/core/frame.py\u001b[0m in \u001b[0;36mset_index\u001b[0;34m(self, keys, drop, append, inplace, verify_integrity)\u001b[0m\n\u001b[1;32m   5494\u001b[0m \u001b[0;34m\u001b[0m\u001b[0m\n\u001b[1;32m   5495\u001b[0m         \u001b[0;32mif\u001b[0m \u001b[0mmissing\u001b[0m\u001b[0;34m:\u001b[0m\u001b[0;34m\u001b[0m\u001b[0;34m\u001b[0m\u001b[0m\n\u001b[0;32m-> 5496\u001b[0;31m             \u001b[0;32mraise\u001b[0m \u001b[0mKeyError\u001b[0m\u001b[0;34m(\u001b[0m\u001b[0;34mf\"None of {missing} are in the columns\"\u001b[0m\u001b[0;34m)\u001b[0m\u001b[0;34m\u001b[0m\u001b[0;34m\u001b[0m\u001b[0m\n\u001b[0m\u001b[1;32m   5497\u001b[0m \u001b[0;34m\u001b[0m\u001b[0m\n\u001b[1;32m   5498\u001b[0m         \u001b[0;32mif\u001b[0m \u001b[0minplace\u001b[0m\u001b[0;34m:\u001b[0m\u001b[0;34m\u001b[0m\u001b[0;34m\u001b[0m\u001b[0m\n",
      "\u001b[0;31mKeyError\u001b[0m: \"None of ['Start Date'] are in the columns\""
     ]
    }
   ],
   "source": [
    "# Step 1: Set the datetime index\n",
    "Monthly_cases.set_index('Start Date', inplace=True)\n",
    "\n",
    "# Step 2: Calculate number of days in each month\n",
    "Monthly_cases['days_in_month'] = Monthly_cases.index.days_in_month\n",
    "\n",
    "# Step 3: Calculate daily average\n",
    "Monthly_cases['daily_cases'] = Monthly_cases['Cases'] / Monthly_cases['days_in_month']\n",
    "\n",
    "# Step 4: Create a date range for each month and assign daily values\n",
    "daily_data = (\n",
    "    Monthly_cases\n",
    "    .apply(lambda row: pd.Series(\n",
    "        [row['daily_cases']] * row['days_in_month'],\n",
    "        index=pd.date_range(start=row.name, periods=row['days_in_month'], freq='D')\n",
    "    ), axis=1)\n",
    "    .stack()\n",
    "    .to_frame(name='Daily Cases')\n",
    ")\n",
    "\n",
    "# Optional: Reset index if needed\n",
    "daily_data.index.names = ['Start Date', None]\n",
    "daily_data = daily_data.reset_index(level=1, drop=True)"
   ]
  },
  {
   "cell_type": "markdown",
   "metadata": {},
   "source": [
    "# Clean the data"
   ]
  },
  {
   "cell_type": "code",
   "execution_count": null,
   "metadata": {
    "collapsed": true
   },
   "outputs": [],
   "source": [
    "#Make copy of the dataframe\n",
    "Deaths_df=Deaths_df.copy()\n",
    "\n",
    "# Populate the year and month columns from the Start Date column in the Total\n",
    "\n",
    "#Convert to datetime and clean the data\n",
    "Deaths_df[\"Start Date\"] = pd.to_datetime(Deaths_df[\"Start Date\"])\n",
    "\n",
    "# Extract year and month from Start Date column\n",
    "Deaths_df[\"Year\"] = Deaths_df[\"Start Date\" ].dt.year\n",
    "Deaths_df[\"Month\"] = Deaths_df[\"Start Date\"].dt.month\n",
    "Deaths_df\n"
   ]
  },
  {
   "cell_type": "markdown",
   "metadata": {},
   "source": [
    "# Explore the data where the State column is United States information"
   ]
  },
  {
   "cell_type": "code",
   "execution_count": null,
   "metadata": {},
   "outputs": [],
   "source": [
    "\n",
    "# Explore the data where the column is not All States information\n",
    "Deaths_df[Deaths_df['State'] == 'United States']"
   ]
  },
  {
   "cell_type": "markdown",
   "metadata": {},
   "source": [
    "# Categorical Analysis and Visualization"
   ]
  },
  {
   "cell_type": "code",
   "execution_count": null,
   "metadata": {
    "collapsed": true,
    "scrolled": true
   },
   "outputs": [],
   "source": [
    "#Analyze the United States data by Age Group\n",
    "\n",
    "#Pie Chart visualization\n",
    "Deaths_df['Age Group'].value_counts().plot(kind='pie', figsize=(6,6))"
   ]
  },
  {
   "cell_type": "markdown",
   "metadata": {},
   "source": [
    "# Barchart Analysis "
   ]
  },
  {
   "cell_type": "code",
   "execution_count": null,
   "metadata": {
    "collapsed": true
   },
   "outputs": [],
   "source": [
    "#Analyze the Total Deaths by Age Group >= 55-64 years and Sex is Male\n",
    "\n",
    "# Filter rows where State is California, Age group is 55-64 years , Sex is Male and Total Deaths is greater than 100,000\n",
    "Deaths_filtered = Deaths_df[(Deaths_df['State']=='California') & (Deaths_df['Age Group'] >= '55-64 years') & (Deaths_df['Sex'] == 'Male')\n",
    "                           & (Deaths_df['Total Deaths'] >= 100000) ]\n",
    "\n",
    "Deaths_filtered\n",
    "\n",
    "Deaths_filtered['Total Deaths'].value_counts().plot(kind='bar', figsize=(14,6))                         \n"
   ]
  },
  {
   "cell_type": "markdown",
   "metadata": {},
   "source": [
    "# BarChart Analysis"
   ]
  },
  {
   "cell_type": "code",
   "execution_count": 12,
   "metadata": {},
   "outputs": [
    {
     "data": {
      "image/png": "[encoded data removed]",
      "text/plain": [
       "<Figure size 576x432 with 1 Axes>"
      ]
     },
     "metadata": {
      "needs_background": "light"
     },
     "output_type": "display_data"
    }
   ],
   "source": [
    "# Explore the data\n",
    "\n",
    "import matplotlib.pyplot as plt\n",
    "\n",
    "Deaths_df.sort_values('Age Group', inplace=True)  # Ensure age groups are ordered logically\n",
    "plt.figure(figsize=(8,6))\n",
    "plt.bar(Deaths_df['Age Group'], Deaths_df['Total Deaths'], color='skyblue')\n",
    "plt.title('COVID-19 Total Deaths by Age Group')\n",
    "plt.xlabel('Age Group')\n",
    "plt.ylabel('Total Deaths')\n",
    "plt.xticks(rotation=45)\n",
    "plt.tight_layout()\n",
    "plt.show()\n",
    "\n",
    "\n"
   ]
  },
  {
   "cell_type": "markdown",
   "metadata": {},
   "source": [
    "# Scatter Plot Analysis "
   ]
  },
  {
   "cell_type": "code",
   "execution_count": 15,
   "metadata": {},
   "outputs": [
    {
     "data": {
      "image/png": "[encoded data removed]",
      "text/plain": [
       "<Figure size 432x432 with 1 Axes>"
      ]
     },
     "metadata": {
      "needs_background": "light"
     },
     "output_type": "display_data"
    }
   ],
   "source": [
    "#Analyze the data by Age Group and Total Deaths\n",
    "\n",
    "# Convert age groups to ordered categories\n",
    "age_order = [\"< 1\", \"0-17\",\"1-4\", \"5-14\", \"50-64\", \"55-64\",\"65-74\", \"75-84\", \"85+\"]\n",
    "Deaths_df['Age Group'] = pd.Categorical(Deaths_df['Age Group'], categories=age_order, ordered=True)\n",
    "Deaths_df['Age Code'] = Deaths_df['Age Group'].cat.codes\n",
    "\n",
    "# Scatter plot with numerical x-axis\n",
    "Deaths_df.plot(kind='scatter', x='Age Code', y='Total Deaths', figsize=(6,6))\n",
    "plt.xticks(ticks=range(len(age_order)), labels=age_order, rotation=45)\n",
    "plt.xlabel('Age Group')\n",
    "plt.title('COVID-19 Total Deaths by Age Group')\n",
    "plt.tight_layout()\n",
    "plt.show()\n",
    "\n",
    " "
   ]
  },
  {
   "cell_type": "code",
   "execution_count": 14,
   "metadata": {
    "collapsed": true
   },
   "outputs": [],
   "source": [
    "import matplotlib\n",
    "import matplotlib.pyplot as plt\n",
    "import matplotlib.style\n",
    "\n",
    "matplotlib.style.use(\"bmh\")"
   ]
  },
  {
   "cell_type": "code",
   "execution_count": null,
   "metadata": {
    "collapsed": true
   },
   "outputs": [],
   "source": [
    "Death_df = Deaths_df.groupby(\"Age Group\").sum()\n",
    "ax = Deaths_df.plot(kind = \"bar\", figsize = (18,8),y = [\"Total Deaths\", \"COVID-19 Deaths\"])\n",
    "\n",
    "plt.xlabel(\"Age category\")\n",
    "plt.ylabel(\"Number of deaths\")\n",
    "plt.xticks(rotation = 45)\n",
    "plt.title(\"Total deaths vs COVID-19 deaths for USA : 4 age categories\")\n",
    "\n",
    "ax.yaxis.set_major_formatter(matplotlib.ticker.StrMethodFormatter('{x:,.0f}'))"
   ]
  },
  {
   "cell_type": "code",
   "execution_count": null,
   "metadata": {
    "collapsed": true
   },
   "outputs": [],
   "source": [
    "# Correlation Analysis\n",
    "corr_df= Deaths_df.corr()\n",
    "corr_df\n",
    "\n",
    "fig=plt.figure(figsize=(8,8))\n",
    "plt.matshow(corr_df, cmap='RdBu', fignum=fig.number)\n",
    "plt.xticks(range(len(corr_df.columns)),corr_df.columns, rotation='vertical');\n",
    "plt.yticks(range(len(corr_df.columns)),corr_df.columns);"
   ]
  },
  {
   "cell_type": "code",
   "execution_count": null,
   "metadata": {
    "collapsed": true
   },
   "outputs": [],
   "source": [
    "# Which state has the largest deaths  in United States\n",
    "\n",
    "df=Deaths_df[Deaths_df['State'] !='United States']\n",
    "\n",
    "df.loc[df['COVID-19 Deaths'].idxmax()]\n",
    "\n",
    "df.loc[df['Total Deaths'].idxmax()]\n",
    "\n",
    "df.loc[df['Pneumonia Deaths'].idxmax()]\n",
    "\n",
    "df.loc[df['Pneumonia and COVID-19 Deaths'].idxmax()]\n",
    "\n",
    "df.loc[df['Pneumonia and COVID-19 Deaths'].idxmax()]\n",
    "\n",
    "df.loc[df['Influenza Deaths'].idxmax()]\n",
    "\n",
    "df.loc[df['Pneumonia, Influenza, or COVID-19 Deaths'].idxmax()]\n",
    "\n"
   ]
  },
  {
   "cell_type": "code",
   "execution_count": null,
   "metadata": {
    "collapsed": true
   },
   "outputs": [],
   "source": [
    "# Analyze on the Percentage of COVID Deaths compared to Total Deaths\n",
    "\n",
    "Deaths_df['Percentage_Deaths'] = Deaths_df['COVID-19 Deaths'] / Deaths_df['Total Deaths']\n",
    "\n",
    "Deaths_df['Percentage_Deaths'].head()"
   ]
  },
  {
   "cell_type": "code",
   "execution_count": null,
   "metadata": {
    "collapsed": true
   },
   "outputs": [],
   "source": [
    "#Density plot Analysis\n",
    "Deaths_df['Percentage_Deaths'].plot(kind='density', figsize=(14,6))"
   ]
  },
  {
   "cell_type": "code",
   "execution_count": null,
   "metadata": {
    "collapsed": true
   },
   "outputs": [],
   "source": [
    "#Histogram Analysis\n",
    "Deaths_df['Percentage_Deaths'].plot(kind='hist', figsize=(14,6))"
   ]
  },
  {
   "cell_type": "markdown",
   "metadata": {},
   "source": [
    "# Conclusion\n",
    "Overall the State of California has the largest death data compared to other States.Also, the higher the age the mortality rate is high with COVID-19 Total Deaths which is useful information for Public Health Agency, vaccination and other interventions that are needed."
   ]
  }
 ],
 "metadata": {
  "kernelspec": {
   "display_name": "Python 3.8",
   "language": "python",
   "name": "python38"
  },
  "language_info": {
   "codemirror_mode": {
    "name": "ipython",
    "version": 3
   },
   "file_extension": ".py",
   "mimetype": "text/x-python",
   "name": "python",
   "nbconvert_exporter": "python",
   "pygments_lexer": "ipython3",
   "version": "3.8.7"
  }
 },
 "nbformat": 4,
 "nbformat_minor": 2
}
